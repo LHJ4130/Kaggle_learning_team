{
 "cells": [
  {
   "cell_type": "markdown",
   "id": "175b32b0",
   "metadata": {},
   "source": [
    "Pandas是Python在資料分析時常使用的套件\n",
    "\n",
    "在載入套件後，首先要 Creating data\n",
    "Pandas的格式中，資料處理格式分成單維度(Series)和雙維度(DataFrame)兩種\n",
    "\n",
    "DataFrame是一個表格（可以當成Excel來看），可以被分成三個部分：\n",
    "欄位名稱(row)、資料索引(column)和表格裡的值(value)\n",
    "\n",
    "下面就直接用第一章的練習題來寫"
   ]
  },
  {
   "cell_type": "code",
   "execution_count": 5,
   "id": "8917f26a",
   "metadata": {},
   "outputs": [
    {
     "name": "stdout",
     "output_type": "stream",
     "text": [
      "   Apples  Bananas\n",
      "0      35       21\n",
      "1      41       34\n"
     ]
    }
   ],
   "source": [
    "#DataFrame的創建方式\n",
    "\n",
    "#先載入panda套件\n",
    "import pandas as pd\n",
    "\n",
    "#創一個名為fruits的DataFrame\n",
    "#表格名稱 = pd.DataFrame({\"'欄位名稱1':[Value1,Vaule2], '欄位名稱2':[Value3,Value4]\"})\n",
    "fruits = pd.DataFrame({'Apples':[35,41], 'Bananas':[21,34]})\n",
    "print(fruits)"
   ]
  },
  {
   "cell_type": "markdown",
   "id": "72d7fd12",
   "metadata": {},
   "source": [
    "可以從上題看到Apples和Bananas兩個欄位(row)下面有我們輸入的Value，但可以看到左邊的資料索引(column)是預設的0,1\n",
    "因此要讓資料索引也能顯示我們想要的名稱，我們要在後面設定index的名稱"
   ]
  },
  {
   "cell_type": "code",
   "execution_count": 8,
   "id": "86ec961f",
   "metadata": {},
   "outputs": [
    {
     "name": "stdout",
     "output_type": "stream",
     "text": [
      "            Apples  Bananas\n",
      "2017 Sales      35       21\n",
      "2018 Sales      41       34\n"
     ]
    }
   ],
   "source": [
    "#承上題\n",
    "#表格名稱 = pd.DataFrame(\n",
    "#    {'欄位名稱1':[Value1,Vaule2], \n",
    "#     '欄位名稱2':[Value3,Value4]}, \n",
    "#     index=['2017 Sales','2018 Sales'])\n",
    "\n",
    "fruit_sales = pd.DataFrame(\n",
    "    {'Apples':[35,41], \n",
    "     'Bananas':[21,34]},\n",
    "    index = ['2017 Sales', '2018 Sales'])\n",
    "print(fruit_sales)\n",
    "#加上index後就可以自己定義column名稱"
   ]
  },
  {
   "cell_type": "markdown",
   "id": "7f6841d9",
   "metadata": {},
   "source": [
    "跟多欄位的DataFrame比起來，Series為單一欄位的資料（跟list有點像）\n",
    "只有資料索引和值"
   ]
  },
  {
   "cell_type": "code",
   "execution_count": 19,
   "id": "ad2443fe",
   "metadata": {},
   "outputs": [
    {
     "ename": "SyntaxError",
     "evalue": "positional argument follows keyword argument (3343009023.py, line 10)",
     "output_type": "error",
     "traceback": [
      "\u001b[0;36m  File \u001b[0;32m\"/var/folders/r6/53f708512_j4n8md94x84wwm0000gn/T/ipykernel_90642/3343009023.py\"\u001b[0;36m, line \u001b[0;32m10\u001b[0m\n\u001b[0;31m    name = \"Dinner\")\u001b[0m\n\u001b[0m                   ^\u001b[0m\n\u001b[0;31mSyntaxError\u001b[0m\u001b[0;31m:\u001b[0m positional argument follows keyword argument\n"
     ]
    }
   ],
   "source": [
    "#Series創建方式\n",
    "#表格名稱 ＝ pd.Series(\n",
    "#    ['value1','value2','value3'],\n",
    "#    index = [\"index1\",\"index2\",\"index3\"],\n",
    "#    name = '名稱')\n",
    "\n",
    "ingredients = pd.Series(\n",
    "    \n",
    "    index = [\"Flour\",\"Milk\",\"Eggs\", \"Spam\"],\n",
    "    name = \"Dinner\")\n",
    "print(ingredients)"
   ]
  },
  {
   "cell_type": "markdown",
   "id": "fcfb9044",
   "metadata": {},
   "source": [
    "學會了創建DataFrame和Series之後，就可以來操作資料庫了\n",
    "首先要先把外部資料匯入進來，才能開始運作"
   ]
  },
  {
   "cell_type": "code",
   "execution_count": 18,
   "id": "ee490775",
   "metadata": {},
   "outputs": [
    {
     "data": {
      "text/html": [
       "<div>\n",
       "<style scoped>\n",
       "    .dataframe tbody tr th:only-of-type {\n",
       "        vertical-align: middle;\n",
       "    }\n",
       "\n",
       "    .dataframe tbody tr th {\n",
       "        vertical-align: top;\n",
       "    }\n",
       "\n",
       "    .dataframe thead th {\n",
       "        text-align: right;\n",
       "    }\n",
       "</style>\n",
       "<table border=\"1\" class=\"dataframe\">\n",
       "  <thead>\n",
       "    <tr style=\"text-align: right;\">\n",
       "      <th></th>\n",
       "      <th>country</th>\n",
       "      <th>description</th>\n",
       "      <th>designation</th>\n",
       "      <th>points</th>\n",
       "      <th>price</th>\n",
       "      <th>province</th>\n",
       "      <th>region_1</th>\n",
       "      <th>region_2</th>\n",
       "      <th>variety</th>\n",
       "      <th>winery</th>\n",
       "    </tr>\n",
       "  </thead>\n",
       "  <tbody>\n",
       "    <tr>\n",
       "      <th>0</th>\n",
       "      <td>US</td>\n",
       "      <td>This tremendous 100% varietal wine hails from ...</td>\n",
       "      <td>Martha's Vineyard</td>\n",
       "      <td>96</td>\n",
       "      <td>235.0</td>\n",
       "      <td>California</td>\n",
       "      <td>Napa Valley</td>\n",
       "      <td>Napa</td>\n",
       "      <td>Cabernet Sauvignon</td>\n",
       "      <td>Heitz</td>\n",
       "    </tr>\n",
       "    <tr>\n",
       "      <th>1</th>\n",
       "      <td>Spain</td>\n",
       "      <td>Ripe aromas of fig, blackberry and cassis are ...</td>\n",
       "      <td>Carodorum Selección Especial Reserva</td>\n",
       "      <td>96</td>\n",
       "      <td>110.0</td>\n",
       "      <td>Northern Spain</td>\n",
       "      <td>Toro</td>\n",
       "      <td>NaN</td>\n",
       "      <td>Tinta de Toro</td>\n",
       "      <td>Bodega Carmen Rodríguez</td>\n",
       "    </tr>\n",
       "    <tr>\n",
       "      <th>2</th>\n",
       "      <td>US</td>\n",
       "      <td>Mac Watson honors the memory of a wine once ma...</td>\n",
       "      <td>Special Selected Late Harvest</td>\n",
       "      <td>96</td>\n",
       "      <td>90.0</td>\n",
       "      <td>California</td>\n",
       "      <td>Knights Valley</td>\n",
       "      <td>Sonoma</td>\n",
       "      <td>Sauvignon Blanc</td>\n",
       "      <td>Macauley</td>\n",
       "    </tr>\n",
       "    <tr>\n",
       "      <th>3</th>\n",
       "      <td>US</td>\n",
       "      <td>This spent 20 months in 30% new French oak, an...</td>\n",
       "      <td>Reserve</td>\n",
       "      <td>96</td>\n",
       "      <td>65.0</td>\n",
       "      <td>Oregon</td>\n",
       "      <td>Willamette Valley</td>\n",
       "      <td>Willamette Valley</td>\n",
       "      <td>Pinot Noir</td>\n",
       "      <td>Ponzi</td>\n",
       "    </tr>\n",
       "    <tr>\n",
       "      <th>4</th>\n",
       "      <td>France</td>\n",
       "      <td>This is the top wine from La Bégude, named aft...</td>\n",
       "      <td>La Brûlade</td>\n",
       "      <td>95</td>\n",
       "      <td>66.0</td>\n",
       "      <td>Provence</td>\n",
       "      <td>Bandol</td>\n",
       "      <td>NaN</td>\n",
       "      <td>Provence red blend</td>\n",
       "      <td>Domaine de la Bégude</td>\n",
       "    </tr>\n",
       "  </tbody>\n",
       "</table>\n",
       "</div>"
      ],
      "text/plain": [
       "  country                                        description  \\\n",
       "0      US  This tremendous 100% varietal wine hails from ...   \n",
       "1   Spain  Ripe aromas of fig, blackberry and cassis are ...   \n",
       "2      US  Mac Watson honors the memory of a wine once ma...   \n",
       "3      US  This spent 20 months in 30% new French oak, an...   \n",
       "4  France  This is the top wine from La Bégude, named aft...   \n",
       "\n",
       "                            designation  points  price        province  \\\n",
       "0                     Martha's Vineyard      96  235.0      California   \n",
       "1  Carodorum Selección Especial Reserva      96  110.0  Northern Spain   \n",
       "2         Special Selected Late Harvest      96   90.0      California   \n",
       "3                               Reserve      96   65.0          Oregon   \n",
       "4                            La Brûlade      95   66.0        Provence   \n",
       "\n",
       "            region_1           region_2             variety  \\\n",
       "0        Napa Valley               Napa  Cabernet Sauvignon   \n",
       "1               Toro                NaN       Tinta de Toro   \n",
       "2     Knights Valley             Sonoma     Sauvignon Blanc   \n",
       "3  Willamette Valley  Willamette Valley          Pinot Noir   \n",
       "4             Bandol                NaN  Provence red blend   \n",
       "\n",
       "                    winery  \n",
       "0                    Heitz  \n",
       "1  Bodega Carmen Rodríguez  \n",
       "2                 Macauley  \n",
       "3                    Ponzi  \n",
       "4     Domaine de la Bégude  "
      ]
     },
     "execution_count": 18,
     "metadata": {},
     "output_type": "execute_result"
    }
   ],
   "source": [
    "#匯入csv檔案\n",
    "#後面的index_col=0是避免pandas又再新增一個索引\n",
    "reviews = pd.read_csv(\"../Desktop/winemag-data_first150k.csv\",index_col=0)\n",
    "#讀取前五行看一下\n",
    "reviews.head()\n"
   ]
  },
  {
   "cell_type": "code",
   "execution_count": 16,
   "id": "f06c9528",
   "metadata": {},
   "outputs": [
    {
     "name": "stdout",
     "output_type": "stream",
     "text": [
      "        Cows  Goats\n",
      "Year 1    12     22\n",
      "Year 2    20     19\n"
     ]
    }
   ],
   "source": [
    "animals = pd.DataFrame({'Cows': [12, 20], 'Goats': [22, 19]}, index=['Year 1', 'Year 2'])\n",
    "print(animals)\n",
    "#寫完新的DataFrame後要把它匯入到檔案裡面\n",
    "#就可以使用to_csv存進去\n",
    "animals.to_csv(\"cows_and_goats.csv\")"
   ]
  },
  {
   "cell_type": "code",
   "execution_count": null,
   "id": "18878fff",
   "metadata": {},
   "outputs": [],
   "source": []
  }
 ],
 "metadata": {
  "kernelspec": {
   "display_name": "Python 3 (ipykernel)",
   "language": "python",
   "name": "python3"
  },
  "language_info": {
   "codemirror_mode": {
    "name": "ipython",
    "version": 3
   },
   "file_extension": ".py",
   "mimetype": "text/x-python",
   "name": "python",
   "nbconvert_exporter": "python",
   "pygments_lexer": "ipython3",
   "version": "3.9.7"
  }
 },
 "nbformat": 4,
 "nbformat_minor": 5
}
